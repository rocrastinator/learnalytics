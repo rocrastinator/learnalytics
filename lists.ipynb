{
 "cells": [
  {
   "cell_type": "markdown",
   "metadata": {},
   "source": [
    "# LIST\n",
    "    List is data structure which is a indexed collection  of different data types\n",
    "    List can be consist of int,string,float all together .\n",
    "    Elelments in lists are separated by commas.\n",
    "    Each element in list has a unique index where first elemnt always has index=0. and last elelment can be accessed with index=-1.\n",
    "    List are mutable in nature.\n",
    "    We can change the content of the list.\n",
    "    List are enclosed in square brackets []\n",
    "    Following are the example of the list\n",
    "    You cannot perform matrix operation in list because it is not purely integer so we have to use numpy"
   ]
  },
  {
   "cell_type": "code",
   "execution_count": null,
   "metadata": {},
   "outputs": [],
   "source": []
  },
  {
   "cell_type": "code",
   "execution_count": null,
   "metadata": {},
   "outputs": [],
   "source": [
    "x[i] = a   reassigns the  ith element to the  value a"
   ]
  },
  {
   "cell_type": "code",
   "execution_count": 3,
   "metadata": {},
   "outputs": [
    {
     "name": "stdout",
     "output_type": "stream",
     "text": [
      "1\n",
      "34.56\n",
      "5\n"
     ]
    }
   ],
   "source": [
    "a=[1,4.5,\"apple\",\"banana\",34.56]\n",
    "print(a[0])#positive index\n",
    "print(a[-1]) #negative index\n",
    "print(len(a))#length of list"
   ]
  },
  {
   "cell_type": "code",
   "execution_count": 2,
   "metadata": {},
   "outputs": [
    {
     "name": "stdout",
     "output_type": "stream",
     "text": [
      "this is a list  1\n",
      "this is a list  2\n",
      "this is a list  13\n",
      "this is a list  4.5\n",
      "this is a list  apple\n",
      "this is a list  banana\n",
      "this is a list  34.56\n"
     ]
    }
   ],
   "source": [
    "a=[1,2,13,4.5,\"apple\",\"banana\",34.56]\n",
    "for i in range(len(a)):          #list traversal\n",
    "    print(\"this is a list \",a[i])"
   ]
  },
  {
   "cell_type": "code",
   "execution_count": 1,
   "metadata": {},
   "outputs": [
    {
     "name": "stdout",
     "output_type": "stream",
     "text": [
      "[1, 2, 3, 4, 1, 2, 3, 4, 1, 2, 3, 4, 1, 2, 3, 4, 1, 2, 3, 4]\n"
     ]
    }
   ],
   "source": [
    "a=[1,2,3,4]*5\n",
    "print(a)             #list multiply"
   ]
  },
  {
   "cell_type": "code",
   "execution_count": 2,
   "metadata": {},
   "outputs": [
    {
     "name": "stdout",
     "output_type": "stream",
     "text": [
      "[1, 2, 3, 4, 1, 2, 3, 4]\n"
     ]
    }
   ],
   "source": [
    "a=[1,2,3,4]\n",
    "b=[1,2,3,4]\n",
    "print(a+\n",
    "      b)            #list addition results in concatination"
   ]
  },
  {
   "cell_type": "code",
   "execution_count": null,
   "metadata": {},
   "outputs": [],
   "source": [
    "#Create list of integers from 1-10 \n",
    "x=[i for i in range(10)]\n",
    "print(x)"
   ]
  },
  {
   "cell_type": "markdown",
   "metadata": {},
   "source": [
    "# List Slicing\n",
    "It is used to pull more than one value from the list\n",
    "list[lower:upper]\n",
    "here lower limit is inclusive and upper limit is exclusive"
   ]
  },
  {
   "cell_type": "code",
   "execution_count": 4,
   "metadata": {},
   "outputs": [
    {
     "name": "stdout",
     "output_type": "stream",
     "text": [
      "['mango', 4]\n"
     ]
    }
   ],
   "source": [
    "\n",
    "a=[1,2,'mango',4,'water',3.6]\n",
    "print(a[2:4])"
   ]
  },
  {
   "cell_type": "markdown",
   "metadata": {},
   "source": [
    "## APPEND FUNCTION\n",
    "    .append() function is to add elelment the list.\n",
    "    append function needs list to be present for the operation.\n",
    "    append functioon will add element at of the list.\n",
    "    "
   ]
  },
  {
   "cell_type": "code",
   "execution_count": 2,
   "metadata": {},
   "outputs": [
    {
     "name": "stdout",
     "output_type": "stream",
     "text": [
      "enter nameclass\n",
      "enter roll12\n",
      "['class12']\n"
     ]
    }
   ],
   "source": [
    "b=[]\n",
    "b.append(input('enter name')+(input('enter roll')))\n",
    "print(b)"
   ]
  },
  {
   "cell_type": "code",
   "execution_count": null,
   "metadata": {},
   "outputs": [
    {
     "name": "stdout",
     "output_type": "stream",
     "text": [
      "1.new student \n",
      " 2.existing student \n",
      " 3.exit\n",
      "enter choice1\n",
      "enter namerj\n",
      "enter roll no11\n",
      "['rj', 11]\n",
      "enter choice2\n",
      "enter roll no11\n",
      "rj\n"
     ]
    }
   ],
   "source": [
    "b=[]\n",
    "print('1.new student','\\n','2.existing student','\\n','3.exit')\n",
    "while (1):\n",
    "    a=int(input('enter choice'))\n",
    "    if a==1:\n",
    "        b.append(input('enter name'))\n",
    "        b.append(int(input('enter roll no')))\n",
    "        print(b)\n",
    "    elif a==2:\n",
    "        c=int(input('enter roll no'))\n",
    "        if c in b:\n",
    "            print(b[b.index(c)-1])\n",
    "        else:\n",
    "            b.append(input('enter name'))\n",
    "            b.append(int(input('enter roll no')))\n",
    "            print(b)\n",
    "    elif a==3:\n",
    "        break"
   ]
  },
  {
   "cell_type": "code",
   "execution_count": null,
   "metadata": {},
   "outputs": [],
   "source": [
    "a=[]\n",
    "for i in range(10):\n",
    "    a.append(i)\n",
    "print(a)\n",
    "del a[6]\n",
    "print(a)"
   ]
  },
  {
   "cell_type": "markdown",
   "metadata": {},
   "source": [
    "## DELETE FUNCTION\n",
    "    Delete function is used to delete the element at given location.\n",
    "    SYNTAX: del list_name[index]"
   ]
  },
  {
   "cell_type": "code",
   "execution_count": 2,
   "metadata": {},
   "outputs": [
    {
     "name": "stdout",
     "output_type": "stream",
     "text": [
      "[0, 1, 2, 3, 4, 5, 6, 7, 8, 9]\n",
      "[0, 1, 2, 3, 4, 5, 7, 8, 9]\n"
     ]
    }
   ],
   "source": [
    "a=[]\n",
    "for i in range(10):\n",
    "    a.append(i)\n",
    "print(a)\n",
    "del a[6]\n",
    "print(a)"
   ]
  },
  {
   "cell_type": "markdown",
   "metadata": {},
   "source": [
    "## REMOVE FUNCTION\n",
    "    Remove function is used to remove the mentioned element from the list.\n",
    "    SYNTAX- list_name.remove(element)\n",
    "\n",
    "## INSERT FUNCTION\n",
    "    insert is used to insert a element at given location.\n",
    "    SYNTAX- list_name.insert(index_name,element)"
   ]
  },
  {
   "cell_type": "code",
   "execution_count": 3,
   "metadata": {},
   "outputs": [
    {
     "name": "stdout",
     "output_type": "stream",
     "text": [
      "[1, 2, 4, 5, 6, 7, 8, 9, 0]\n",
      "[1, 2, 'a', 4, 5, 6, 7, 8, 9, 0]\n",
      "[1, 2, 'a', 4, 5, 6, 7, 8, 0]\n"
     ]
    }
   ],
   "source": [
    "a=[1,2,3,4,5,6,7,8,9,0]\n",
    "del(a[2])\n",
    "print(a)\n",
    "a.insert(2,'a')\n",
    "print(a)\n",
    "a.remove(9)\n",
    "print(a)"
   ]
  },
  {
   "cell_type": "markdown",
   "metadata": {},
   "source": [
    "## EXTEND FUNCTION\n",
    "    As in append we cannot append multiple elements.\n",
    "    to enter multiple elements we have to append a new list.\n",
    "    Extend function is used to add the the multiple elements in list."
   ]
  },
  {
   "cell_type": "code",
   "execution_count": 15,
   "metadata": {},
   "outputs": [
    {
     "name": "stdout",
     "output_type": "stream",
     "text": [
      "[1, 2, 3, 4, 5, 6, 7, 8, [11, 12]]\n",
      "[1, 2, 3, 4, 5, 6, 7, 8, [11, 12], 13, 14]\n"
     ]
    }
   ],
   "source": [
    "a=[1,2,3,4,5,6,7,8]\n",
    "a.append([11,12])\n",
    "print(a)\n",
    "a.extend([13,14])\n",
    "print(a)"
   ]
  },
  {
   "cell_type": "markdown",
   "metadata": {},
   "source": [
    "  # max function :\n",
    "  ## Returns the maximum value from list.\n",
    "\n",
    "  # min function\n",
    "  ## Returns minimum value from list."
   ]
  },
  {
   "cell_type": "code",
   "execution_count": 1,
   "metadata": {},
   "outputs": [
    {
     "name": "stdout",
     "output_type": "stream",
     "text": [
      "[22, 11, 19, 96, 67, 9, -45, 19]\n",
      "96\n",
      "-45\n",
      "\n"
     ]
    }
   ],
   "source": [
    "\n",
    "c = [22,11,19,96,67,9,-45,19]\n",
    "print (c)\n",
    "print (max(c))\n",
    " \n",
    "print (min(c))\n",
    "print()"
   ]
  },
  {
   "cell_type": "markdown",
   "metadata": {},
   "source": [
    "  # count function \n",
    "## Counts the occurences of given element in list"
   ]
  },
  {
   "cell_type": "code",
   "execution_count": 2,
   "metadata": {},
   "outputs": [
    {
     "name": "stdout",
     "output_type": "stream",
     "text": [
      "2\n"
     ]
    }
   ],
   "source": [
    "print (c.count(19))"
   ]
  },
  {
   "cell_type": "markdown",
   "metadata": {},
   "source": [
    " # pop function \n",
    " ## Used to pop out the last element of list"
   ]
  },
  {
   "cell_type": "code",
   "execution_count": 3,
   "metadata": {},
   "outputs": [
    {
     "name": "stdout",
     "output_type": "stream",
     "text": [
      "19\n",
      "22\n"
     ]
    }
   ],
   "source": [
    "print(c.pop())\n",
    "### pop out the element from given position  \n",
    "print(c.pop(0))"
   ]
  },
  {
   "cell_type": "markdown",
   "metadata": {},
   "source": [
    "  # sorted function : \n",
    "  ## Used to sort the list"
   ]
  },
  {
   "cell_type": "code",
   "execution_count": 5,
   "metadata": {},
   "outputs": [
    {
     "name": "stdout",
     "output_type": "stream",
     "text": [
      "[-45, 9, 11, 19, 19, 22, 67, 96]\n",
      "\n",
      "[22, 11, 19, 96, 67, 9, -45, 19]\n",
      "\n"
     ]
    }
   ],
   "source": [
    "print(sorted(c))\n",
    "print()\n",
    "print (c)\n",
    "print ()"
   ]
  },
  {
   "cell_type": "markdown",
   "metadata": {},
   "source": [
    "# reverse function: Reverses the list"
   ]
  },
  {
   "cell_type": "code",
   "execution_count": 6,
   "metadata": {},
   "outputs": [
    {
     "name": "stdout",
     "output_type": "stream",
     "text": [
      "[22, 11, 19, 96, 67, 9, -45, 19]\n",
      "\n",
      "[19, -45, 9, 67, 96, 19, 11, 22]\n",
      "\n"
     ]
    }
   ],
   "source": [
    "m = [22,11,19,96,67,9,-45,19]\n",
    "print (m)\n",
    "print ()\n",
    "m.reverse()\n",
    "print (m)\n",
    "print ()"
   ]
  },
  {
   "cell_type": "code",
   "execution_count": null,
   "metadata": {},
   "outputs": [],
   "source": [
    "2-d Lists – Advanced Topic\n",
    "You can have 2-d lists – it’s just a list of lists! - but, especially when manipulating numbers,\n",
    "it is far better to use NumPy arrays (see section 6.3).\n",
    "Addressing a 2-d list is done thus:\n",
    ">>> a=[[0,1,2],[3,4,5],[6,7,8]] # Create a 2-d list\n",
    ">>> print a\n",
    "[[0, 1, 2], [3, 4, 5], [6, 7, 8]]\n",
    ">>> print a[1][2] # Addressing a 2-d list"
   ]
  },
  {
   "cell_type": "markdown",
   "metadata": {},
   "source": [
    "Fancy List Handling – zip() and map() – Advanced Topic\n",
    "You can do some very clever things with lists. In general however, the ‘array’ type that we\n",
    "introduce later in the course (in module NumPy) is more useful to physicists.\n",
    "Have a look at appendix B of Hetland where he has a summary of built in functions and\n",
    "methods. I will give just two examples here:\n",
    "Example 1. Try the zip() function:\n"
   ]
  },
  {
   "cell_type": "code",
   "execution_count": 17,
   "metadata": {},
   "outputs": [
    {
     "name": "stdout",
     "output_type": "stream",
     "text": [
      "<class 'list'>\n",
      "[(1, 4), (2, 5), (3, 6)]\n"
     ]
    }
   ],
   "source": [
    "a=[1,2,3]\n",
    "b=[4,5,6]\n",
    "c = list(zip(a,b))\n",
    "print(type(c))\n",
    "print(c)"
   ]
  },
  {
   "cell_type": "markdown",
   "metadata": {},
   "source": [
    "You may have a list of integers and want to make them all into floats. Python won’t let you\n",
    "do this in case the list contains types that cannot be converted. However, the map() function\n",
    "allows you to ‘map’ any function onto all the elements of a list. Of course, if the list contains\n",
    "unsuitable elements, you will get an error:"
   ]
  },
  {
   "cell_type": "code",
   "execution_count": 8,
   "metadata": {},
   "outputs": [
    {
     "name": "stdout",
     "output_type": "stream",
     "text": [
      "[1.0, 2.0, 3.0, 4.0, 5.0]\n",
      "[1, 2, 3, 4, 5, 'fred']\n"
     ]
    },
    {
     "ename": "ValueError",
     "evalue": "could not convert string to float: 'fred'",
     "output_type": "error",
     "traceback": [
      "\u001b[0;31m---------------------------------------------------------------------------\u001b[0m",
      "\u001b[0;31mValueError\u001b[0m                                Traceback (most recent call last)",
      "\u001b[0;32m<ipython-input-8-2ae29685383b>\u001b[0m in \u001b[0;36m<module>\u001b[0;34m\u001b[0m\n\u001b[1;32m     14\u001b[0m \u001b[0;34m\u001b[0m\u001b[0m\n\u001b[1;32m     15\u001b[0m \u001b[0mb\u001b[0m\u001b[0;34m=\u001b[0m\u001b[0mmap\u001b[0m\u001b[0;34m(\u001b[0m\u001b[0mfloat\u001b[0m\u001b[0;34m,\u001b[0m\u001b[0ma\u001b[0m\u001b[0;34m)\u001b[0m\u001b[0;34m\u001b[0m\u001b[0;34m\u001b[0m\u001b[0m\n\u001b[0;32m---> 16\u001b[0;31m \u001b[0mprint\u001b[0m\u001b[0;34m(\u001b[0m\u001b[0mlist\u001b[0m\u001b[0;34m(\u001b[0m\u001b[0mb\u001b[0m\u001b[0;34m)\u001b[0m\u001b[0;34m)\u001b[0m\u001b[0;34m\u001b[0m\u001b[0;34m\u001b[0m\u001b[0m\n\u001b[0m",
      "\u001b[0;31mValueError\u001b[0m: could not convert string to float: 'fred'"
     ]
    }
   ],
   "source": [
    "\n",
    "a=[1,2,3,4,5]\n",
    "\n",
    "b=map(float,a)# Apply the float() function to all elements\n",
    "\n",
    "print(list(b))\n",
    "\n",
    "#[1.0, 2.0, 3.0, 4.0, 5.0]\n",
    "a.append('fred')\n",
    "\n",
    "print(a)\n",
    "\n",
    "#[1, 2, 3, 4, 5, 'fred']\n",
    "\n",
    "b=map(float,a)\n",
    "print(list(b))\n"
   ]
  },
  {
   "cell_type": "markdown",
   "metadata": {},
   "source": [
    ".1.5 Tuples\n",
    "Tuples are lists that cannot be changed. In general, don’t worry about them, just use lists!\n",
    "However, they can be useful and you will come across them.\n",
    "If you use a library function that happens to return a tuple, just treat it like you would a list\n",
    "but don’t try to change it! Tuples use round brackets for assignment and display:\n"
   ]
  },
  {
   "cell_type": "code",
   "execution_count": 11,
   "metadata": {},
   "outputs": [
    {
     "name": "stdout",
     "output_type": "stream",
     "text": [
      "2\n"
     ]
    },
    {
     "ename": "TypeError",
     "evalue": "'tuple' object does not support item assignment",
     "output_type": "error",
     "traceback": [
      "\u001b[0;31m---------------------------------------------------------------------------\u001b[0m",
      "\u001b[0;31mTypeError\u001b[0m                                 Traceback (most recent call last)",
      "\u001b[0;32m<ipython-input-11-839297d7b582>\u001b[0m in \u001b[0;36m<module>\u001b[0;34m\u001b[0m\n\u001b[1;32m      4\u001b[0m \u001b[0mprint\u001b[0m \u001b[0;34m(\u001b[0m\u001b[0ma\u001b[0m\u001b[0;34m[\u001b[0m\u001b[0;36m1\u001b[0m\u001b[0;34m]\u001b[0m\u001b[0;34m)\u001b[0m\u001b[0;34m\u001b[0m\u001b[0;34m\u001b[0m\u001b[0m\n\u001b[1;32m      5\u001b[0m \u001b[0;34m\u001b[0m\u001b[0m\n\u001b[0;32m----> 6\u001b[0;31m \u001b[0ma\u001b[0m\u001b[0;34m[\u001b[0m\u001b[0;36m1\u001b[0m\u001b[0;34m]\u001b[0m \u001b[0;34m=\u001b[0m \u001b[0;36m99\u001b[0m\u001b[0;34m\u001b[0m\u001b[0;34m\u001b[0m\u001b[0m\n\u001b[0m",
      "\u001b[0;31mTypeError\u001b[0m: 'tuple' object does not support item assignment"
     ]
    }
   ],
   "source": [
    "a=(1,2,3)\n",
    "type(a)\n",
    "\n",
    "print (a[1])\n",
    "\n",
    "a[1] = 99"
   ]
  },
  {
   "cell_type": "code",
   "execution_count": null,
   "metadata": {},
   "outputs": [],
   "source": [
    "Exercise 6.1 - Lists\n",
    "Write a small database and some code to query it using lists.\n",
    "Create a list with the names of 10 ‘friends’. Create a second matching list with their years of\n",
    "birth. Ask the user to input a name. Tell him the place (index) of that person in the list, how\n",
    "many friends he has in total and the year of birth of the person. The input and output should\n",
    "look like this:\n",
    "Enter a name: Will\n",
    "You have 10 friends\n",
    "Will is number 8 in your list\n",
    "Will was born in 1991"
   ]
  },
  {
   "cell_type": "code",
   "execution_count": null,
   "metadata": {},
   "outputs": [],
   "source": [
    "Given an array of ints length 3, return an array with the elements \"rotated left\" so {1, 2, 3} yields {2, 3, 1}.\n",
    "\n",
    "\n",
    "rotate_left3([1, 2, 3]) → [2, 3, 1]\n",
    "rotate_left3([5, 11, 9]) → [11, 9, 5]"
   ]
  },
  {
   "cell_type": "code",
   "execution_count": null,
   "metadata": {},
   "outputs": [],
   "source": [
    "#Given an array of ints length 3, figure out which is larger, the first or last element in the array, and set all the other elements to be that value. Return the changed array.\n",
    "\n",
    "\n",
    "max_end3([1, 2, 3]) → [3, 3, 3]\n",
    "max_end3([11, 5, 9]) → [11, 11, 11]"
   ]
  },
  {
   "cell_type": "code",
   "execution_count": null,
   "metadata": {},
   "outputs": [],
   "source": [
    "#Given 2 int arrays, a and b, each length 3, return a new array length 2 containing their middle elements.\n",
    "\n",
    "\n",
    "middle_way([1, 2, 3], [4, 5, 6]) → [2, 5]\n",
    "middle_way([7, 7, 7], [3, 8, 0]) → [7, 8]"
   ]
  }
 ],
 "metadata": {
  "kernelspec": {
   "display_name": "Python 3",
   "language": "python",
   "name": "python3"
  },
  "language_info": {
   "codemirror_mode": {
    "name": "ipython",
    "version": 3
   },
   "file_extension": ".py",
   "mimetype": "text/x-python",
   "name": "python",
   "nbconvert_exporter": "python",
   "pygments_lexer": "ipython3",
   "version": "3.7.3"
  }
 },
 "nbformat": 4,
 "nbformat_minor": 2
}
