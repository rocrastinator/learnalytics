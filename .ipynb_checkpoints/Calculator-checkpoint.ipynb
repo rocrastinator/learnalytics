{
 "cells": [
  {
   "cell_type": "code",
   "execution_count": 1,
   "metadata": {},
   "outputs": [],
   "source": [
    "from tkinter import *\n",
    "import tkinter as tk\n",
    "root=tk.Tk()\n",
    "root.title(\"Calculator using TK\")\n",
    "root.geometry(\"400x400\")\n",
    "num1 = Label(root,text = \"First Number\",height=2).grid(row = 0, column = 0,padx=5, pady=20)  \n",
    "e1 = Entry(root)\n",
    "e1.grid(row = 0, column = 1) \n",
    "operation = Label(root,text = \"operation\",height=2).grid(row = 1, column = 0,padx=5, pady=20)\n",
    "e2 = Entry(root)\n",
    "e2.grid(row = 1, column = 1)\n",
    "num2 = Label(root,text = \"Second Number\",height=2).grid(row = 2, column = 0,padx=5, pady=20)  \n",
    "e3 = Entry(root)\n",
    "e3.grid(row = 2, column = 1)\n",
    "l = Label(root,text = \"Result\",height=2)\n",
    "l.grid(row = 10, column = 0,padx=5, pady=20)\n",
    "l2 = Label(root,text = \"\",height=2)\n",
    "l2.grid(row = 10, column = 1,padx=5, pady=20)\n",
    "\n",
    "\n",
    "def calc():\n",
    "    x=int(e1.get())\n",
    "    y=int(e3.get())\n",
    "    z=e2.get()\n",
    "    if z== '+':\n",
    "        r=x+y\n",
    "        l2.config(text ='addidtion is {}'.format(r))\n",
    "\n",
    "submit = Button(root, text = \"Calculate\",height=2,command=calc).grid(row = 8, column = 1)\n",
    "\n",
    "root.mainloop()"
   ]
  },
  {
   "cell_type": "code",
   "execution_count": null,
   "metadata": {},
   "outputs": [],
   "source": []
  },
  {
   "cell_type": "code",
   "execution_count": null,
   "metadata": {},
   "outputs": [],
   "source": []
  },
  {
   "cell_type": "code",
   "execution_count": null,
   "metadata": {},
   "outputs": [],
   "source": []
  }
 ],
 "metadata": {
  "kernelspec": {
   "display_name": "Python 3",
   "language": "python",
   "name": "python3"
  },
  "language_info": {
   "codemirror_mode": {
    "name": "ipython",
    "version": 3
   },
   "file_extension": ".py",
   "mimetype": "text/x-python",
   "name": "python",
   "nbconvert_exporter": "python",
   "pygments_lexer": "ipython3",
   "version": "3.7.3"
  }
 },
 "nbformat": 4,
 "nbformat_minor": 2
}
