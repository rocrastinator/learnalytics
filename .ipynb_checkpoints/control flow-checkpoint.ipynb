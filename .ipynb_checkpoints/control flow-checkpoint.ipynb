{
 "cells": [
  {
   "cell_type": "markdown",
   "metadata": {},
   "source": [
    "# Conditional statements\n",
    "An if statement is a conditional statement that runs or skips code based on whether a condition is true or false.\n",
    "There are 3 types of If statements\n",
    "## 1: If\n",
    "## 2:If then else\n",
    "## 3:Elif\n",
    "\n",
    "\n",
    "\n"
   ]
  },
  {
   "cell_type": "code",
   "execution_count": null,
   "metadata": {},
   "outputs": [],
   "source": []
  },
  {
   "cell_type": "markdown",
   "metadata": {},
   "source": [
    "### If Statement is used for decision control, if this then do this ,else do that ."
   ]
  },
  {
   "cell_type": "code",
   "execution_count": 1,
   "metadata": {},
   "outputs": [
    {
     "name": "stdout",
     "output_type": "stream",
     "text": [
      "enter a  6\n",
      "enter b  6\n",
      " b is greater\n"
     ]
    }
   ],
   "source": [
    "#if-else to find greater number\n",
    "a=(int(input(\"enter a  \")))\n",
    "b=(int(input(\"enter b  \")))\n",
    "if a>b:\n",
    "    print(' a is greater')\n",
    "else:print(' b is greater')  \n"
   ]
  },
  {
   "cell_type": "code",
   "execution_count": null,
   "metadata": {},
   "outputs": [],
   "source": []
  },
  {
   "cell_type": "code",
   "execution_count": 2,
   "metadata": {},
   "outputs": [
    {
     "name": "stdout",
     "output_type": "stream",
     "text": [
      "b is greater\n"
     ]
    }
   ],
   "source": [
    "#elif\n",
    "if a>b:\n",
    "    print(\"a is greater\")\n",
    "elif a<b:\n",
    "    print(\"b is greater\")\n",
    "else:print(\"a is equal to b\")   "
   ]
  },
  {
   "cell_type": "markdown",
   "metadata": {},
   "source": [
    "### elif statement is mostly used as a replacement for switch case statement because python does not support Switch Statement. why???"
   ]
  },
  {
   "cell_type": "code",
   "execution_count": 2,
   "metadata": {},
   "outputs": [
    {
     "name": "stdout",
     "output_type": "stream",
     "text": [
      "enter first no=  6\n",
      "enter second no= 88\n",
      "\n",
      " 1.addition \n",
      " 2.subtraction \n",
      " 3.multiplication \n",
      " 4.division \n",
      " 5.power \n",
      " 6.floor division \n",
      " 7.modulo\n",
      "enter choice  1\n",
      "94\n"
     ]
    }
   ],
   "source": [
    "a=int(input(\"enter first no=  \"))\n",
    "b=int(input(\"enter second no= \"))\n",
    "print(\"\\n\",\"1.addition\",'\\n',\"2.subtraction\",'\\n','3.multiplication','\\n','4.division','\\n','5.power','\\n','6.floor division','\\n','7.modulo')\n",
    "i=(int(input(\"enter choice  \")))\n",
    "\n",
    "if i==1:\n",
    "    print(a+b)\n",
    "elif i==2:\n",
    "    print(a-b)\n",
    "elif i==3:\n",
    "    print(a*b)\n",
    "elif i==4:                                              #CALCULATOR\n",
    "    print(a/b)\n",
    "elif i==5:\n",
    "    print(a**b)\n",
    "elif i==6:\n",
    "    print(a//b)\n",
    "elif i==7:\n",
    "    print(a%b)\n",
    "else:\n",
    "    print(\"wrong choice\")"
   ]
  },
  {
   "cell_type": "code",
   "execution_count": null,
   "metadata": {},
   "outputs": [],
   "source": []
  },
  {
   "cell_type": "markdown",
   "metadata": {},
   "source": [
    "# Looping Statements in Python\n",
    "Loop is used to perform iteration in python(repeat something ).\n",
    "\n",
    "# for\n",
    "\n",
    "# while"
   ]
  },
  {
   "cell_type": "markdown",
   "metadata": {},
   "source": [
    "# WHILE LOOP SYNTAX\n",
    "while test_expression:\n",
    "\n",
    "        Body of while"
   ]
  },
  {
   "cell_type": "code",
   "execution_count": 6,
   "metadata": {},
   "outputs": [
    {
     "name": "stdout",
     "output_type": "stream",
     "text": [
      "X38\n",
      "0\n",
      "1\n",
      "2\n",
      "3\n",
      "4\n",
      "5\n",
      "6\n",
      "7\n"
     ]
    }
   ],
   "source": [
    "#while loop\n",
    "i=0\n",
    "a=int(input(\"X3\"))    \n",
    "while i<a:#test expression\n",
    "    #body start\n",
    "    print(i)\n",
    "    i+=1 # body end"
   ]
  },
  {
   "cell_type": "code",
   "execution_count": 3,
   "metadata": {},
   "outputs": [
    {
     "name": "stdout",
     "output_type": "stream",
     "text": [
      "X3=5\n",
      "-5\n",
      "-4\n",
      "-3\n",
      "-2\n",
      "-1\n",
      "0\n",
      "1\n",
      "2\n",
      "3\n",
      "4\n",
      "5\n"
     ]
    }
   ],
   "source": [
    "a=int(input(\"X3=\"))\n",
    "i=-a\n",
    "for j in range(i,a+1):\n",
    "    print(j)\n",
    "    i+=1"
   ]
  },
  {
   "cell_type": "markdown",
   "metadata": {},
   "source": [
    "## FOR LOOP SYNTAX\n",
    "\n",
    "    for i in range(start_point,end_point,step) \n",
    "    \n",
    "    If the start value and step is not given then default start value is o and step is 1. \n",
    "    i stands for the index of the value\n"
   ]
  },
  {
   "cell_type": "code",
   "execution_count": 10,
   "metadata": {},
   "outputs": [
    {
     "name": "stdout",
     "output_type": "stream",
     "text": [
      "0\n",
      "1\n",
      "2\n",
      "3\n",
      "4\n",
      "5\n",
      "6\n",
      "7\n",
      "8\n",
      "9\n"
     ]
    }
   ],
   "source": [
    "for i in range(10): # basically means for i in range (0,9)\n",
    "    print(i)#body of for loop"
   ]
  },
  {
   "cell_type": "code",
   "execution_count": 9,
   "metadata": {},
   "outputs": [
    {
     "name": "stdout",
     "output_type": "stream",
     "text": [
      "10\n",
      "8\n",
      "6\n",
      "4\n",
      "2\n"
     ]
    }
   ],
   "source": [
    "for i in range(10,0,-2):           #for loop\n",
    "    print(i)"
   ]
  },
  {
   "cell_type": "markdown",
   "metadata": {},
   "source": [
    "# Loop control statements\n",
    "\n",
    "### Continue-Jumps to the top of the closest  enclosing loop(skips the iterration)\n",
    "\n",
    "### Break-Jumps out of the closest enclosing  loop\n",
    "\n",
    "### Pass-Does nothing, runs empty loop"
   ]
  },
  {
   "cell_type": "code",
   "execution_count": 4,
   "metadata": {},
   "outputs": [
    {
     "name": "stdout",
     "output_type": "stream",
     "text": [
      "0\n",
      "1\n",
      "2\n",
      "3\n",
      "4\n",
      "6\n",
      "7\n",
      "8\n",
      "9\n"
     ]
    },
    {
     "data": {
      "text/plain": [
       "'for x in \"banana\":\\n    print(x)\\nfor x in range(5):\\n    print(x)\\nfor x in range(1,5):\\n    print(x)\\n'"
      ]
     },
     "execution_count": 4,
     "metadata": {},
     "output_type": "execute_result"
    }
   ],
   "source": [
    "for i in range(10):\n",
    "    if(i==5):\n",
    "        continue\n",
    "    print(i)\n",
    "\"\"\"for x in \"banana\":\n",
    "    print(x)\n",
    "for x in range(5):\n",
    "    print(x)\n",
    "for x in range(1,5):\n",
    "    print(x)\n",
    "\"\"\""
   ]
  },
  {
   "cell_type": "code",
   "execution_count": 11,
   "metadata": {},
   "outputs": [
    {
     "name": "stdout",
     "output_type": "stream",
     "text": [
      "Enter series4\n",
      "   * \n",
      "  * * \n",
      " * * * \n",
      "* * * * \n"
     ]
    }
   ],
   "source": [
    "a=int(input(\"Enter series\"))\n",
    "for i in range(1,a+1,1):\n",
    "    for k in range(1,(a-i)+1):\n",
    "        print(end=\" \")\n",
    "    print(\"* \"*i)"
   ]
  },
  {
   "cell_type": "code",
   "execution_count": 1,
   "metadata": {},
   "outputs": [
    {
     "name": "stdout",
     "output_type": "stream",
     "text": [
      "Enter series7\n",
      "\n",
      "*\n",
      "**\n",
      "***\n",
      "****\n",
      "*****\n",
      "******\n",
      "*******\n"
     ]
    }
   ],
   "source": [
    "for i in range(0,int(input(\"Enter series\"))+1,):\n",
    "    print(\"*\" *i)"
   ]
  },
  {
   "cell_type": "code",
   "execution_count": 4,
   "metadata": {},
   "outputs": [
    {
     "name": "stdout",
     "output_type": "stream",
     "text": [
      "foo+++bar+++baz\n"
     ]
    }
   ],
   "source": [
    "\n",
    "#The print() function also has a sep= keyword argument which controls what gets printed between items:\n",
    "\n",
    "print('foo', 'bar', 'baz', sep='+++')\n",
    "#foo+++bar+++baz"
   ]
  },
  {
   "cell_type": "code",
   "execution_count": null,
   "metadata": {},
   "outputs": [],
   "source": [
    "a=10;b=15;c=18\n",
    "if a>b and a>c:\n",
    "    print(\"a is max\") # print(True) boolean also\n",
    "elif b>c:\n",
    "    print(\"b is max\")\n",
    "else:\n",
    "    print(\"c is max\")\n"
   ]
  }
 ],
 "metadata": {
  "kernelspec": {
   "display_name": "Python 3",
   "language": "python",
   "name": "python3"
  },
  "language_info": {
   "codemirror_mode": {
    "name": "ipython",
    "version": 3
   },
   "file_extension": ".py",
   "mimetype": "text/x-python",
   "name": "python",
   "nbconvert_exporter": "python",
   "pygments_lexer": "ipython3",
   "version": "3.7.3"
  }
 },
 "nbformat": 4,
 "nbformat_minor": 2
}
