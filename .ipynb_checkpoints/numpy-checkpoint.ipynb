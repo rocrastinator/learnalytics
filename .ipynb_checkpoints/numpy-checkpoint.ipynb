{
 "cells": [
  {
   "cell_type": "markdown",
   "metadata": {},
   "source": [
    "# Numpy is a library in python which is used for numerical operations mainly involving matrices."
   ]
  },
  {
   "cell_type": "markdown",
   "metadata": {},
   "source": [
    "## Create array using np.array"
   ]
  },
  {
   "cell_type": "code",
   "execution_count": 1,
   "metadata": {},
   "outputs": [
    {
     "name": "stdout",
     "output_type": "stream",
     "text": [
      "[1 2 3]\n",
      "<class 'numpy.ndarray'>\n"
     ]
    }
   ],
   "source": [
    "import numpy as np  #import numpy into our program\n",
    "x=np.array([1,2,3])\n",
    "print(x)\n",
    "a=np.array([1,2,3,4,5])\n",
    "print(type(a))"
   ]
  },
  {
   "cell_type": "markdown",
   "metadata": {},
   "source": [
    "## arange(n) Function returns array for range 0 to n-1\n",
    "### Syntax: np.arange(start,end,step) here end value is exclusive."
   ]
  },
  {
   "cell_type": "code",
   "execution_count": 2,
   "metadata": {},
   "outputs": [
    {
     "name": "stdout",
     "output_type": "stream",
     "text": [
      "[0 2 4 6 8]\n"
     ]
    }
   ],
   "source": [
    "y=np.arange(0,10,2)#returns array\n",
    "print(y)"
   ]
  },
  {
   "cell_type": "markdown",
   "metadata": {},
   "source": [
    "## we can perform various arithmatic functions on array by using arithmatic opeators for addition,subtraction,multiplication raised to power(+,-,*,**)"
   ]
  },
  {
   "cell_type": "code",
   "execution_count": 3,
   "metadata": {},
   "outputs": [
    {
     "name": "stdout",
     "output_type": "stream",
     "text": [
      "add is [ 2  4  6  8 10] \n",
      " sub is  [0 0 0 0 0] \n",
      " mul is  [ 1  4  9 16 25] \n",
      " div is [1. 1. 1. 1. 1.]\n"
     ]
    }
   ],
   "source": [
    "import numpy as np\n",
    "a=np.array([1,2,3,4,5])\n",
    "b=np.array([1,2,3,4,5])\n",
    "print('add is',a+b,'\\n','sub is ',a-b,'\\n','mul is ',a*b,'\\n','div is',a/b)"
   ]
  },
  {
   "cell_type": "markdown",
   "metadata": {},
   "source": [
    "# Shape\n",
    "\n",
    "The shape tool gives a tuple of array dimensions and can be used to change the dimensions of an array."
   ]
  },
  {
   "cell_type": "code",
   "execution_count": 4,
   "metadata": {},
   "outputs": [
    {
     "name": "stdout",
     "output_type": "stream",
     "text": [
      "(5,)\n"
     ]
    }
   ],
   "source": [
    "#Using shape to get array dimensions\n",
    "\n",
    "import numpy\n",
    "\n",
    "my_array = numpy.array([1, 2, 3, 4, 5])\n",
    "print(my_array.shape)     #(5,) -> 5 rows and 0 columns\n"
   ]
  },
  {
   "cell_type": "code",
   "execution_count": 5,
   "metadata": {},
   "outputs": [
    {
     "name": "stdout",
     "output_type": "stream",
     "text": [
      "[1 2 3 4 5 6]\n",
      "[[1 2]\n",
      " [3 4]\n",
      " [5 6]]\n"
     ]
    }
   ],
   "source": [
    "change_array = numpy.array([1,2,3,4,5,6])\n",
    "print(change_array)\n",
    "change_array.shape = (3, 2)\n",
    "print(change_array)"
   ]
  },
  {
   "cell_type": "markdown",
   "metadata": {},
   "source": [
    "# Reshape\n",
    "\n",
    "The reshape tool gives a new shape to an array without changing its data. It creates a new array and does not modify the original array itself.\n",
    "\n"
   ]
  },
  {
   "cell_type": "code",
   "execution_count": 6,
   "metadata": {},
   "outputs": [
    {
     "name": "stdout",
     "output_type": "stream",
     "text": [
      "[[1 2]\n",
      " [3 4]\n",
      " [5 6]]\n"
     ]
    }
   ],
   "source": [
    "my_array = numpy.array([1,2,3,4,5,6])\n",
    "print(numpy.reshape(my_array,(3,2)))\n"
   ]
  },
  {
   "cell_type": "code",
   "execution_count": null,
   "metadata": {},
   "outputs": [],
   "source": []
  },
  {
   "cell_type": "markdown",
   "metadata": {},
   "source": [
    "## numpy gives us acessibility to use multidimensional arrays in below example it returns a 3 by 3 array "
   ]
  },
  {
   "cell_type": "code",
   "execution_count": 7,
   "metadata": {},
   "outputs": [
    {
     "name": "stdout",
     "output_type": "stream",
     "text": [
      "[[1 2 3]\n",
      " [4 5 6]\n",
      " [7 8 9]]\n"
     ]
    }
   ],
   "source": [
    "z=np.array([[1,2,3],[4,5,6],[7,8,9]])\n",
    "print(z)"
   ]
  },
  {
   "cell_type": "markdown",
   "metadata": {},
   "source": [
    "## Using transpose function we can get the transpose of the matrix"
   ]
  },
  {
   "cell_type": "code",
   "execution_count": 8,
   "metadata": {},
   "outputs": [
    {
     "name": "stdout",
     "output_type": "stream",
     "text": [
      "[[1 4 7]\n",
      " [2 5 8]\n",
      " [3 6 9]]\n"
     ]
    }
   ],
   "source": [
    "z1=z.transpose()\n",
    "print(z1)"
   ]
  },
  {
   "cell_type": "code",
   "execution_count": 9,
   "metadata": {},
   "outputs": [
    {
     "name": "stdout",
     "output_type": "stream",
     "text": [
      "[1 2 3 4 5]\n",
      "[1 2 8 4 5]\n",
      "[1 2 8 4 5]\n"
     ]
    }
   ],
   "source": [
    "import numpy as np\n",
    "a=np.array([1,2,3,4,5])\n",
    "b=np.array([1,2,3,4,5])\n",
    "c=b\n",
    "print(c)\n",
    "c[2]=8\n",
    "print(b)\n",
    "print(c)"
   ]
  },
  {
   "cell_type": "markdown",
   "metadata": {},
   "source": [
    "### As we see when  c=b is executed and content of c are changed it changes the contents of b too. This is because the same memory location is assigned to both array so it uses same pointer which points to the both location so it changes the value at both the location"
   ]
  },
  {
   "cell_type": "markdown",
   "metadata": {},
   "source": [
    "### To avoid this thing we use copy function. this will assign new memory location to the specified number\n",
    "#### .copy()\n",
    "    This will copy the content of one array to other one with change in the memory location.\n",
    "    So if we change content of one array it won,t change the content of other location\n",
    "    SYNTAX: object_name.copy()\n",
    "\n"
   ]
  },
  {
   "cell_type": "code",
   "execution_count": 10,
   "metadata": {},
   "outputs": [
    {
     "name": "stdout",
     "output_type": "stream",
     "text": [
      "[1, 2, 3, 4, 5]\n",
      "[1, 2, 12, 4, 5]\n",
      "[1, 2, 3, 4, 5]\n"
     ]
    }
   ],
   "source": [
    "a=[1,2,3,4,5]\n",
    "b=a.copy()\n",
    "print(b)\n",
    "a[2]=12\n",
    "print(a)\n",
    "print(b)\n"
   ]
  },
  {
   "cell_type": "code",
   "execution_count": 11,
   "metadata": {},
   "outputs": [
    {
     "name": "stdout",
     "output_type": "stream",
     "text": [
      "[1, 2, 12, 4, 5]\n",
      "[1, 2, 12, 4, 5]\n",
      "139912788110728\n",
      "139912788110728\n"
     ]
    }
   ],
   "source": [
    "b=[1,2,3,4,5]\n",
    "c=b\n",
    "c[2]=12\n",
    "print(b)\n",
    "print(c)\n",
    "print(id(b))\n",
    "print(id(c))"
   ]
  },
  {
   "cell_type": "markdown",
   "metadata": {},
   "source": [
    "# id()\n",
    "    This function will return the address of the array in the memory and identity of object which is unique.\n",
    "    As we see variable b and c have same memory address.\n",
    "    SYNTAX: id(object_name)"
   ]
  },
  {
   "cell_type": "code",
   "execution_count": 12,
   "metadata": {},
   "outputs": [
    {
     "name": "stdout",
     "output_type": "stream",
     "text": [
      "139912788110728\n",
      "139912788110728\n"
     ]
    }
   ],
   "source": [
    "print(id(b))\n",
    "print(id(c))"
   ]
  },
  {
   "cell_type": "code",
   "execution_count": 13,
   "metadata": {},
   "outputs": [
    {
     "name": "stdout",
     "output_type": "stream",
     "text": [
      "[1, 2, 3, 4, 5]\n",
      "[1, 2, 12, 4, 5]\n",
      "139912787826504\n",
      "[1, 2, 3, 4, 5]\n",
      "139912787826568\n"
     ]
    }
   ],
   "source": [
    "a=[1,2,3,4,5]\n",
    "b=a.copy()\n",
    "print(b)\n",
    "a[2]=12\n",
    "print(a)\n",
    "print(id(a))\n",
    "print(b)\n",
    "print(id(b))"
   ]
  },
  {
   "cell_type": "markdown",
   "metadata": {},
   "source": [
    "# dtype\n",
    "    dtype will give you the type of array and its memory size\n",
    "    SYNTAX: dtype(object_name)\n",
    "    You can change the type of the givrn object using the dtype\n",
    "    SYNTAX: dtype=np.type_nameSize(name and size are diiferent)"
   ]
  },
  {
   "cell_type": "code",
   "execution_count": 14,
   "metadata": {},
   "outputs": [
    {
     "name": "stdout",
     "output_type": "stream",
     "text": [
      "int64\n"
     ]
    }
   ],
   "source": [
    "import numpy as np\n",
    "a=np.array([1,2,3,4,5])\n",
    "print(a.dtype)"
   ]
  },
  {
   "cell_type": "code",
   "execution_count": 15,
   "metadata": {},
   "outputs": [
    {
     "name": "stdout",
     "output_type": "stream",
     "text": [
      "[1 2 3 4 5]\n",
      "int8\n",
      "float16\n",
      "[1. 2. 3. 4. 5.]\n"
     ]
    }
   ],
   "source": [
    "import numpy as np\n",
    "a=np.array([1,2,3,4,5],dtype=np.int8)\n",
    "print(a)\n",
    "print(a.dtype)\n",
    "a=np.array([1,2,3,4,5],dtype=np.float16)\n",
    "print(a.dtype)\n",
    "print(a)"
   ]
  },
  {
   "cell_type": "code",
   "execution_count": 16,
   "metadata": {},
   "outputs": [
    {
     "name": "stdout",
     "output_type": "stream",
     "text": [
      "number of elements1\n",
      "1.addition \n",
      " 2.subtraction \n",
      " 3.multiplication \n",
      " 4.division \n",
      " 5.exit\n",
      "enter number in first array1\n",
      "enter number in 2nd  array1\n",
      "[1]\n",
      "[1]\n",
      "enter choice1\n",
      "[2]\n",
      "enter choice1\n",
      "[2]\n",
      "enter choice5\n"
     ]
    }
   ],
   "source": [
    "import numpy as np\n",
    "\n",
    "\n",
    "a=[]\n",
    "b=[]\n",
    "c=int(input('number of elements'))\n",
    "print(\"1.addition\",'\\n',\"2.subtraction\",'\\n','3.multiplication','\\n','4.division','\\n','5.exit') \n",
    "for i in range(c):\n",
    "    a.append(int(input('enter number in first array')))\n",
    "    b.append(int(input('enter number in 2nd  array')))\n",
    "print(a)\n",
    "print(b)\n",
    "while(1):\n",
    "    x=int(input('enter choice'))\n",
    "    c=np.array(a)\n",
    "    d=np.array(b)\n",
    "    if x==1:\n",
    "        print(c+d)\n",
    "    elif x==2:\n",
    "        print(c-d)\n",
    "    elif x==3:\n",
    "        print(c*d)\n",
    "    elif x==4:                                              #CALCULATOR\n",
    "        print(c/d)\n",
    "    elif x==5:\n",
    "        break\n",
    "    else:\n",
    "        print(\"Bad choice\")"
   ]
  },
  {
   "cell_type": "code",
   "execution_count": 17,
   "metadata": {},
   "outputs": [
    {
     "name": "stdout",
     "output_type": "stream",
     "text": [
      "30\n",
      "0.00040721893310546875\n"
     ]
    }
   ],
   "source": [
    "import time\n",
    "import numpy as np\n",
    "x=time.time()\n",
    "a=np.array([1,2,3,4])       #CODE FOR DOT PRODUCT OF MATRIX\n",
    "b=np.array([1,2,3,4])\n",
    "c=0\n",
    "for i in range(len(a)):\n",
    "    c+=a[i]*b[i]\n",
    "print(c)\n",
    "print(time.time()-x)"
   ]
  },
  {
   "cell_type": "code",
   "execution_count": 18,
   "metadata": {},
   "outputs": [
    {
     "name": "stdout",
     "output_type": "stream",
     "text": [
      "30\n",
      "0.00019478797912597656\n"
     ]
    }
   ],
   "source": [
    "import time\n",
    "import numpy as np\n",
    "x=time.time()\n",
    "a=np.array([1,2,3,4])\n",
    "b=np.array([1,2,3,4])       \n",
    "c=np.dot(a,b)               #FUNCTION FOR DOT PRODUCT\n",
    "print(c)\n",
    "print(time.time()-x)"
   ]
  },
  {
   "cell_type": "markdown",
   "metadata": {},
   "source": [
    "## SAVE AND LOAD\n",
    "    Save and load is use to save the given code and load the same code.\n",
    "    SYNTAX: np.save('file_name',value)\n",
    "    To load the code is to recall the saved content.\n",
    "    SYNTAX: np.load('saved_file_name')"
   ]
  },
  {
   "cell_type": "code",
   "execution_count": 19,
   "metadata": {},
   "outputs": [
    {
     "name": "stdout",
     "output_type": "stream",
     "text": [
      "[ 1 12 23 34 45]\n",
      "<class 'numpy.ndarray'>\n"
     ]
    }
   ],
   "source": [
    "z=[1,12,23,34,45]\n",
    "np.save('abc',z)\n",
    "c=np.load('abc.npy')  #save and reload\n",
    "print(c)\n",
    "print(type(c))"
   ]
  },
  {
   "cell_type": "markdown",
   "metadata": {},
   "source": [
    "## PADDING\n",
    "    Some we need to blank some part of the iamge for that purpose the padding ids used.\n",
    "    SYNTAX: np.value((rows,columns))\n",
    "    Values can be ones,twos,threes etc.\n",
    "    There are different ways of padding which are shown below (READ COMMENTS CAREFULLY)."
   ]
  },
  {
   "cell_type": "code",
   "execution_count": 20,
   "metadata": {},
   "outputs": [
    {
     "name": "stdout",
     "output_type": "stream",
     "text": [
      "[[0. 0.]\n",
      " [0. 0.]]\n",
      "[[1. 1.]\n",
      " [1. 1.]]\n"
     ]
    }
   ],
   "source": [
    "a=np.zeros((2,2))\n",
    "print(a)\n",
    "a=np.ones((2,2))   #used for padding and image blanking\n",
    "print(a)"
   ]
  },
  {
   "cell_type": "code",
   "execution_count": 21,
   "metadata": {},
   "outputs": [
    {
     "name": "stdout",
     "output_type": "stream",
     "text": [
      "[[7 7]\n",
      " [7 7]]\n"
     ]
    }
   ],
   "source": [
    "d=np.full((2,2),7)     #TO ENTER A SPECIFIC NUMBER syntax- np.full((row,coloum),value)\n",
    "print(d)"
   ]
  }
 ],
 "metadata": {
  "kernelspec": {
   "display_name": "Python 3",
   "language": "python",
   "name": "python3"
  },
  "language_info": {
   "codemirror_mode": {
    "name": "ipython",
    "version": 3
   },
   "file_extension": ".py",
   "mimetype": "text/x-python",
   "name": "python",
   "nbconvert_exporter": "python",
   "pygments_lexer": "ipython3",
   "version": "3.7.1"
  }
 },
 "nbformat": 4,
 "nbformat_minor": 2
}
