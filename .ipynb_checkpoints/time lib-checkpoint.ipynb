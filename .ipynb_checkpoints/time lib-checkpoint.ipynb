{
 "cells": [
  {
   "cell_type": "markdown",
   "metadata": {},
   "source": [
    "# IMPORT TIME \n",
    "    Time library can be used for different operation in the python.\n",
    "    As in C or Embedded C wehave to do timing calculations or the counter initialisation to introduce a delay in the code.\n",
    "    Here we can use simple sleep function to insert a delay in the code.\n",
    "    Time function can be used to caculate the total time required for the execution of the current code."
   ]
  },
  {
   "cell_type": "code",
   "execution_count": null,
   "metadata": {},
   "outputs": [],
   "source": [
    "import time\n",
    "a=time.time()           #this will givr us the intial time \n",
    "for i in range(10):\n",
    "    print(i)\n",
    "    time.sleep(2)      #sleep funtion used for the delay and value within the brackets represent time in seconds.\n",
    "print(time.time()-a)   #this is total time-the intial time=time required for the code execution"
   ]
  },
  {
   "cell_type": "code",
   "execution_count": null,
   "metadata": {},
   "outputs": [],
   "source": [
    "#Create a script that asks the user to enter their age and the script calculates the user's year of birth and prints it out in a string like in the expected output. Please make sure you generate the current year dynamically.\n",
    "\n",
    "#Answer: \n",
    "\n",
    "from datetime import datetime\n",
    "age = int(input(\"What's your age? \"))\n",
    "year_birth = datetime.now().year - age\n",
    "print(\"We think you were born back in s\", year_birth)"
   ]
  },
  {
   "cell_type": "code",
   "execution_count": null,
   "metadata": {},
   "outputs": [],
   "source": [
    "import datetime\n",
    "d = datetime.date(2019, 4, 13)\n",
    "print(d)"
   ]
  },
  {
   "cell_type": "code",
   "execution_count": null,
   "metadata": {},
   "outputs": [],
   "source": [
    "from datetime import date\n",
    "today = date.today()\n",
    "print(\"Current date =\", today)"
   ]
  },
  {
   "cell_type": "code",
   "execution_count": null,
   "metadata": {},
   "outputs": [],
   "source": [
    "from datetime import date\n",
    "# date object of today's date\n",
    "today = date.today() \n",
    "print(\"Current year:\", today.year)\n",
    "print(\"Current month:\", today.month)\n",
    "print(\"Current day:\", today.day)"
   ]
  },
  {
   "cell_type": "markdown",
   "metadata": {},
   "source": [
    "Print hour, minute, second and microsecond\n",
    "Once you create a time object, you can easily print its attributes such as hour, minute etc.\n",
    "\n"
   ]
  },
  {
   "cell_type": "code",
   "execution_count": null,
   "metadata": {},
   "outputs": [],
   "source": [
    "from datetime import time\n",
    "a = time(11, 34, 56)\n",
    "print(\"hour =\", a.hour)\n",
    "print(\"minute =\", a.minute)\n",
    "print(\"second =\", a.second)\n",
    "print(\"microsecond =\", a.microsecond)\n"
   ]
  },
  {
   "cell_type": "code",
   "execution_count": null,
   "metadata": {},
   "outputs": [],
   "source": [
    "The strftime() method returns a string representing date and time using date, time or datetime object.\n",
    "datetime to string using strftime()\n",
    "The program below converts a datetime object containing current date and time to different string formats.\n"
   ]
  },
  {
   "cell_type": "code",
   "execution_count": 8,
   "metadata": {},
   "outputs": [
    {
     "name": "stdout",
     "output_type": "stream",
     "text": [
      "year: 19\n",
      "month: 09\n",
      "day: 29\n",
      "time: 11:08:09\n",
      "date and time: 09/29/2019, 11:08:09\n"
     ]
    }
   ],
   "source": [
    "\n",
    "\n",
    "from datetime import datetime\n",
    "now = datetime.now() # current date and time\n",
    "year = now.strftime(\"%y\")\n",
    "print(\"year:\", year)\n",
    "month = now.strftime(\"%m\")\n",
    "print(\"month:\", month)\n",
    "day = now.strftime(\"%d\")\n",
    "print(\"day:\", day)\n",
    "time = now.strftime(\"%H:%M:%S\")\n",
    "print(\"time:\", time)\n",
    "date_time = now.strftime(\"%m/%d/%Y, %H:%M:%S\")\n",
    "print(\"date and time:\",date_time)\t"
   ]
  }
 ],
 "metadata": {
  "kernelspec": {
   "display_name": "Python 3",
   "language": "python",
   "name": "python3"
  },
  "language_info": {
   "codemirror_mode": {
    "name": "ipython",
    "version": 3
   },
   "file_extension": ".py",
   "mimetype": "text/x-python",
   "name": "python",
   "nbconvert_exporter": "python",
   "pygments_lexer": "ipython3",
   "version": "3.7.3"
  }
 },
 "nbformat": 4,
 "nbformat_minor": 2
}
