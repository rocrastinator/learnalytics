{
 "cells": [
  {
   "cell_type": "code",
   "execution_count": null,
   "metadata": {},
   "outputs": [],
   "source": [
    "        \n",
    "R1=Radiobutton(root,\n",
    "               value=\"+\",\n",
    "              text=\"Addition\",\n",
    "              padx = 20, \n",
    "              variable=v1,command=calc(v1) \n",
    "              ).grid(row = 3, column = 1)\n",
    "R2=Radiobutton(root,\n",
    "               value=\"-\",\n",
    "              text=\"Subtraction\",\n",
    "              padx = 20, \n",
    "              variable=v1\n",
    "              ).grid(row = 5, column = 1)\n",
    "R3=Radiobutton(root,\n",
    "               value=\"*\",\n",
    "              text=\"Multiplication\",\n",
    "              padx = 20, \n",
    "              variable=v1).grid(row = 6, column = 1)\n",
    "R4=Radiobutton(root,\n",
    "               value=\"/\",\n",
    "              text=\"Division\",\n",
    "              padx = 20, \n",
    "              variable=v1).grid(row = 7, column = 1)"
   ]
  },
  {
   "cell_type": "code",
   "execution_count": 18,
   "metadata": {},
   "outputs": [
    {
     "name": "stdout",
     "output_type": "stream",
     "text": [
      "b\n",
      "\n",
      "['A\\n', 'B\\n', 'C\\n', 'D\\n', 'E\\n', 'F\\n', 'G\\n', 'H\\n', 'I\\n', 'J\\n', 'K\\n', 'L\\n', 'M\\n', 'N\\n', 'O\\n', 'P\\n', 'Q\\n', 'R\\n', 'S\\n', 'T\\n', 'U\\n', 'V\\n', 'W\\n', 'X\\n', 'Y\\n', 'Z']\n"
     ]
    }
   ],
   "source": [
    "fhand=open('letters.txt','r')\n",
    "f1=fhand.readlines()\n",
    "\n",
    "print(f1[1])\n",
    "\n",
    "f1=[f.upper() for f in f1]\n",
    "print(f1)\n",
    "\n"
   ]
  }
 ],
 "metadata": {
  "kernelspec": {
   "display_name": "Python 3",
   "language": "python",
   "name": "python3"
  },
  "language_info": {
   "codemirror_mode": {
    "name": "ipython",
    "version": 3
   },
   "file_extension": ".py",
   "mimetype": "text/x-python",
   "name": "python",
   "nbconvert_exporter": "python",
   "pygments_lexer": "ipython3",
   "version": "3.7.3"
  }
 },
 "nbformat": 4,
 "nbformat_minor": 2
}
