{
 "cells": [
  {
   "cell_type": "markdown",
   "metadata": {},
   "source": [
    "# DICTIONARY\n",
    "    Dictionary set of key value pair.\n",
    "    It is mutable in nature, we can change the content of the dictionary.\n",
    "    It is entered in the {} brackets.\n",
    "### UPDATE FUNCTION\n",
    "     As in list we use append and extend to add contents,in dictionary we use .update() to add or update contents of the dictionary"
   ]
  },
  {
   "cell_type": "code",
   "execution_count": 1,
   "metadata": {},
   "outputs": [
    {
     "name": "stdout",
     "output_type": "stream",
     "text": [
      "{'a': 12, 'b': 21, 'c': 45}\n"
     ]
    }
   ],
   "source": [
    "a={'a':12,'b':21,'c':45}\n",
    "print(a)"
   ]
  },
  {
   "cell_type": "code",
   "execution_count": 3,
   "metadata": {},
   "outputs": [
    {
     "name": "stdout",
     "output_type": "stream",
     "text": [
      "{1: 'a', 2: 'b', 4: 'd'}\n"
     ]
    }
   ],
   "source": [
    "a={1:'a',2:'b'}\n",
    "a.update({4:'d'})  #updating the contents of the element using update function\n",
    "print(a)"
   ]
  },
  {
   "cell_type": "code",
   "execution_count": 3,
   "metadata": {},
   "outputs": [
    {
     "name": "stdout",
     "output_type": "stream",
     "text": [
      "{1: 'a', 2: 'b', 3: 'c'}\n"
     ]
    }
   ],
   "source": [
    "a={1:'a',2:'b'}\n",
    "a[3]='c'  #adding content to the dictionary without update function\n",
    "print(a)"
   ]
  },
  {
   "cell_type": "markdown",
   "metadata": {},
   "source": [
    "## GET FUNCTION\n",
    "    this function will return the value for the given key.\n",
    "    If it doesnn,t have any value then it will return none."
   ]
  },
  {
   "cell_type": "code",
   "execution_count": 6,
   "metadata": {},
   "outputs": [
    {
     "data": {
      "text/plain": [
       "45"
      ]
     },
     "execution_count": 6,
     "metadata": {},
     "output_type": "execute_result"
    }
   ],
   "source": [
    "a={1:10,2:35,3:45,4:56}\n",
    "a.get(3)"
   ]
  },
  {
   "cell_type": "markdown",
   "metadata": {},
   "source": [
    "## ITEMS FUNTION\n",
    "    This function will give you all the items in the given dictionary\n",
    "    this will return in tuple format"
   ]
  },
  {
   "cell_type": "code",
   "execution_count": 7,
   "metadata": {},
   "outputs": [
    {
     "name": "stdout",
     "output_type": "stream",
     "text": [
      "dict_items([(1, 10), (2, 35), (3, 45), (4, 56)])\n"
     ]
    }
   ],
   "source": [
    "a={1:10,2:35,3:45,4:56}\n",
    "print(a.items())"
   ]
  },
  {
   "cell_type": "markdown",
   "metadata": {},
   "source": [
    "## KEYS FUNCTION\n",
    "    This function will return all the keys in the dictionary.\n",
    "    output will be in list format."
   ]
  },
  {
   "cell_type": "code",
   "execution_count": 10,
   "metadata": {},
   "outputs": [
    {
     "data": {
      "text/plain": [
       "dict_keys([1, 2, 3, 4])"
      ]
     },
     "execution_count": 10,
     "metadata": {},
     "output_type": "execute_result"
    }
   ],
   "source": [
    "a={1:10,2:35,3:45,4:56}\n",
    "a.keys()\n"
   ]
  },
  {
   "cell_type": "code",
   "execution_count": null,
   "metadata": {},
   "outputs": [
    {
     "name": "stdout",
     "output_type": "stream",
     "text": [
      "enter account no5\n",
      "incorect account no\n",
      "enter account no4\n",
      "your balance is 56\n"
     ]
    }
   ],
   "source": [
    "a={1:10,2:35,3:45,4:56}\n",
    "while (1):\n",
    "    b=int(input('enter account no'))\n",
    "    if b in a:\n",
    "        print('your balance is',a[b])\n",
    "        d=int(input('enter amount to withdraw'))\n",
    "        if d>a[b]:\n",
    "            print('low balance')\n",
    "        elif d<=a[b]:\n",
    "            a[b]-=d\n",
    "            print('balance',a[b])\n",
    "    else:\n",
    "        print('incorect account no')"
   ]
  },
  {
   "cell_type": "code",
   "execution_count": 1,
   "metadata": {},
   "outputs": [
    {
     "name": "stdout",
     "output_type": "stream",
     "text": [
      "1.WITHDRAW CASH \n",
      " 2.VIEW BALANCE \n",
      " 3.ENTER NEW ACCOUNT \n",
      " 4.EXIT\n",
      "ENTER CHOICE2\n",
      "ENTER ACCOUNT NUMBER: 3\n",
      "45\n",
      "ENTER CHOICE4\n",
      "INCORRECT ACCOUNT NUMBER\n",
      "ENTER CHOICEh\n"
     ]
    },
    {
     "ename": "ValueError",
     "evalue": "invalid literal for int() with base 10: 'h'",
     "output_type": "error",
     "traceback": [
      "\u001b[0;31m---------------------------------------------------------------------------\u001b[0m",
      "\u001b[0;31mValueError\u001b[0m                                Traceback (most recent call last)",
      "\u001b[0;32m<ipython-input-1-8813539202cf>\u001b[0m in \u001b[0;36m<module>\u001b[0;34m\u001b[0m\n\u001b[1;32m      2\u001b[0m \u001b[0mprint\u001b[0m\u001b[0;34m(\u001b[0m\u001b[0;34m'1.WITHDRAW CASH'\u001b[0m\u001b[0;34m,\u001b[0m\u001b[0;34m'\\n'\u001b[0m\u001b[0;34m,\u001b[0m\u001b[0;34m'2.VIEW BALANCE'\u001b[0m\u001b[0;34m,\u001b[0m\u001b[0;34m'\\n'\u001b[0m\u001b[0;34m,\u001b[0m\u001b[0;34m'3.ENTER NEW ACCOUNT'\u001b[0m\u001b[0;34m,\u001b[0m\u001b[0;34m'\\n'\u001b[0m\u001b[0;34m,\u001b[0m\u001b[0;34m'4.EXIT'\u001b[0m\u001b[0;34m)\u001b[0m\u001b[0;34m\u001b[0m\u001b[0;34m\u001b[0m\u001b[0m\n\u001b[1;32m      3\u001b[0m \u001b[0;32mwhile\u001b[0m \u001b[0;34m(\u001b[0m\u001b[0;36m1\u001b[0m\u001b[0;34m)\u001b[0m\u001b[0;34m:\u001b[0m\u001b[0;34m\u001b[0m\u001b[0;34m\u001b[0m\u001b[0m\n\u001b[0;32m----> 4\u001b[0;31m     \u001b[0mx\u001b[0m\u001b[0;34m=\u001b[0m\u001b[0mint\u001b[0m\u001b[0;34m(\u001b[0m\u001b[0minput\u001b[0m\u001b[0;34m(\u001b[0m\u001b[0;34m'ENTER CHOICE'\u001b[0m\u001b[0;34m)\u001b[0m\u001b[0;34m)\u001b[0m\u001b[0;34m\u001b[0m\u001b[0;34m\u001b[0m\u001b[0m\n\u001b[0m\u001b[1;32m      5\u001b[0m     \u001b[0;32mif\u001b[0m \u001b[0mx\u001b[0m\u001b[0;34m==\u001b[0m\u001b[0;36m1\u001b[0m\u001b[0;34m:\u001b[0m\u001b[0;34m\u001b[0m\u001b[0;34m\u001b[0m\u001b[0m\n\u001b[1;32m      6\u001b[0m         \u001b[0mb\u001b[0m\u001b[0;34m=\u001b[0m\u001b[0mint\u001b[0m\u001b[0;34m(\u001b[0m\u001b[0minput\u001b[0m\u001b[0;34m(\u001b[0m\u001b[0;34m'ENTER ACCOUNT NUMBER: '\u001b[0m\u001b[0;34m)\u001b[0m\u001b[0;34m)\u001b[0m\u001b[0;34m\u001b[0m\u001b[0;34m\u001b[0m\u001b[0m\n",
      "\u001b[0;31mValueError\u001b[0m: invalid literal for int() with base 10: 'h'"
     ]
    }
   ],
   "source": [
    "a={1:10,2:35,3:45,4:56}\n",
    "print('1.WITHDRAW CASH','\\n','2.VIEW BALANCE','\\n','3.ENTER NEW ACCOUNT','\\n','4.EXIT')\n",
    "while (1):\n",
    "    x=int(input('ENTER CHOICE'))\n",
    "    if x==1:\n",
    "        b=int(input('ENTER ACCOUNT NUMBER: '))\n",
    "        if b in a:\n",
    "            print('YOUR BALANCE IS: ',a[b])\n",
    "            d=int(input('ENTER AMOUNT TO WITHDRAW'))\n",
    "        if d>a[b]:\n",
    "            print('LOW BALANCE')\n",
    "        elif d<=a[b]:\n",
    "            a[b]-=d\n",
    "            print('BALANCE',a[b])\n",
    "    elif x==2:\n",
    "        r=int(input('ENTER ACCOUNT NUMBER: '))\n",
    "        print(a[r])\n",
    "    elif x==3:\n",
    "        a.update({int(input('ACCOUNT NUMBER')):int(input('AMOUNT'))})\n",
    "    else:\n",
    "        print('INCORRECT ACCOUNT NUMBER')"
   ]
  }
 ],
 "metadata": {
  "kernelspec": {
   "display_name": "Python 3",
   "language": "python",
   "name": "python3"
  },
  "language_info": {
   "codemirror_mode": {
    "name": "ipython",
    "version": 3
   },
   "file_extension": ".py",
   "mimetype": "text/x-python",
   "name": "python",
   "nbconvert_exporter": "python",
   "pygments_lexer": "ipython3",
   "version": "3.7.3"
  }
 },
 "nbformat": 4,
 "nbformat_minor": 2
}
