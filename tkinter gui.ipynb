{
 "cells": [
  {
   "cell_type": "markdown",
   "metadata": {},
   "source": [
    "# Python Tkinter Geometry\n",
    "The Tkinter geometry specifies the method by using which, the widgets are represented on display. The python Tkinter provides the following geometry methods.\n",
    "\n",
    "The pack() method\n",
    "\n",
    "The grid() method\n",
    "\n",
    "The place() method\n"
   ]
  },
  {
   "cell_type": "markdown",
   "metadata": {},
   "source": [
    "\n",
    "\n",
    "A list of possible options that can be passed inside the grid() method is given below.\n",
    "\n",
    "# Column\n",
    "The column number in which the widget is to be placed. The leftmost column is represented by 0.\n",
    "\n",
    "\n",
    "# ipadx, ipady\n",
    "It represents the number of pixels to pad the widget inside the widget's border.\n",
    "\n",
    "padx, pady \n",
    "It represents the number of pixels to pad the widget outside the widget's border.\n",
    "\n",
    "row\n",
    "The row number in which the widget is to be placed. The topmost row is represented by 0."
   ]
  },
  {
   "cell_type": "markdown",
   "metadata": {},
   "source": []
  },
  {
   "cell_type": "code",
   "execution_count": 2,
   "metadata": {},
   "outputs": [],
   "source": [
    "from tkinter import *  \n",
    "parent = Tk()\n",
    "parent.title(\"GUI with python\")\n",
    "parent.configure(background='RED')\n",
    "name = Label(parent,text = \"first Name\",fg=\"red\",height=2).grid(row = 0, column = 0,padx=5, pady=20)  \n",
    "e1 = Entry(parent)\n",
    "e1.grid(row = 0, column = 1)  \n",
    "last_name = Label(parent,text = \"last name\",bg='green',height=2).grid(row = 1, column = 0,padx=5, pady=20)  \n",
    "e2 = Entry(parent)\n",
    "e2.grid(row = 1, column = 1)\n",
    "submit = Button(parent, text = \"Submit\",height=2)\n",
    "submit.grid(row = 4, column = 0)\n",
    "parent.mainloop()  "
   ]
  },
  {
   "cell_type": "code",
   "execution_count": 6,
   "metadata": {},
   "outputs": [],
   "source": [
    "import tkinter as tk\n",
    "global str_e1\n",
    "str_e1=''\n",
    "from PIL import Image, ImageTk\n",
    "\n",
    "window = tk.Tk()\n",
    "\n",
    "window.title(\"SEE image and ENTER its information\")\n",
    "\n",
    "window.configure(background='RED')\n",
    "\n",
    "\n",
    "path = \"ig.png\"\n",
    "img = ImageTk.PhotoImage(Image.open(path))\n",
    "\n",
    "panel = tk.Label(window,image=img)\n",
    "panel.pack(padx=5, pady=20, side=tk.LEFT)\n",
    "\n",
    "def retrieve_input():\n",
    "    global str_e1\n",
    "    str_e1=textBox.get(\"1.0\",\"end-1c\")\n",
    "    if str_e1=='exit':\n",
    "        window.quit()\n",
    "    else:\n",
    "        print('{}'.format(str_e1))\n",
    "        return str_e1\n",
    "\n",
    "textBox=tk.Text(window, height=33, width=40)\n",
    "textBox.pack(padx=10, pady=20, side=tk.TOP)\n",
    "\n",
    "\n",
    "Submit=tk.Button(window, height=1, width=10, text='Submit', \n",
    "     \n",
    "                 command=lambda:retrieve_input())\n",
    "\n",
    "\n",
    "Submit.pack(padx=5, pady=20, side=tk.LEFT)\n",
    "window.mainloop()\n",
    "#print('closed tkinter{}'.format(str_e1))"
   ]
  },
  {
   "cell_type": "code",
   "execution_count": null,
   "metadata": {},
   "outputs": [],
   "source": []
  },
  {
   "cell_type": "code",
   "execution_count": null,
   "metadata": {},
   "outputs": [],
   "source": []
  },
  {
   "cell_type": "code",
   "execution_count": null,
   "metadata": {},
   "outputs": [],
   "source": []
  }
 ],
 "metadata": {
  "kernelspec": {
   "display_name": "Python 3",
   "language": "python",
   "name": "python3"
  },
  "language_info": {
   "codemirror_mode": {
    "name": "ipython",
    "version": 3
   },
   "file_extension": ".py",
   "mimetype": "text/x-python",
   "name": "python",
   "nbconvert_exporter": "python",
   "pygments_lexer": "ipython3",
   "version": "3.7.3"
  }
 },
 "nbformat": 4,
 "nbformat_minor": 2
}
