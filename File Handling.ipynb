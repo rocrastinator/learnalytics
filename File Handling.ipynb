{
 "cells": [
  {
   "cell_type": "markdown",
   "metadata": {},
   "source": [
    "'r'\tThis is the default mode. It Opens file for reading.\n",
    "\n",
    "'w'\tThis Mode Opens file for writing. \n",
    "\n",
    "If file does not exist, it creates a new file.\n",
    "If file exists it truncates the file.\n",
    "\n",
    "'x'\tCreates a new file. If file already exists, the operation fails.\n",
    "\n",
    "'a'\tOpen file in append mode. \n",
    "If file does not exist, it creates a new file.\n",
    "\n",
    "'t'\tThis is the default mode. It opens in text mode.\n",
    "\n",
    "'b'\tThis opens in binary mode.\n",
    "\n",
    "'+'\tThis will open a file for reading and writing (updating)"
   ]
  },
  {
   "cell_type": "code",
   "execution_count": 4,
   "metadata": {},
   "outputs": [
    {
     "name": "stdout",
     "output_type": "stream",
     "text": [
      "['a\\n', 'b\\n', 'c\\n', 'd\\n', 'e\\n', 'f\\n', 'g\\n', 'h\\n', 'i\\n', 'j\\n', 'k\\n', 'l\\n', 'm\\n', 'n\\n', 'o\\n', 'p\\n', 'q\\n', 'r\\n', 's\\n', 't\\n', 'u\\n', 'v\\n', 'w\\n', 'x\\n', 'y\\n', 'z']\n",
      "['A\\n', 'B\\n', 'C\\n', 'D\\n', 'E\\n', 'F\\n', 'G\\n', 'H\\n', 'I\\n', 'J\\n', 'K\\n', 'L\\n', 'M\\n', 'N\\n', 'O\\n', 'P\\n', 'Q\\n', 'R\\n', 'S\\n', 'T\\n', 'U\\n', 'V\\n', 'W\\n', 'X\\n', 'Y\\n', 'Z']\n"
     ]
    }
   ],
   "source": [
    "fhand=open('letters.txt','r')\n",
    "f1=fhand.readlines()\n",
    "\n",
    "print(f1)\n",
    "\n",
    "\n",
    "\n",
    "f2=[i.upper() for i in f1]\n",
    "print(f2)\n",
    "\n",
    "f2=open('upper.txt','w+')\n",
    "for i in f1:\n",
    "               f2.write(i)\n",
    "f2.close()"
   ]
  }
 ],
 "metadata": {
  "kernelspec": {
   "display_name": "Python 3",
   "language": "python",
   "name": "python3"
  },
  "language_info": {
   "codemirror_mode": {
    "name": "ipython",
    "version": 3
   },
   "file_extension": ".py",
   "mimetype": "text/x-python",
   "name": "python",
   "nbconvert_exporter": "python",
   "pygments_lexer": "ipython3",
   "version": "3.7.3"
  }
 },
 "nbformat": 4,
 "nbformat_minor": 2
}
