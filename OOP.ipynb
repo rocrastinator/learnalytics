{
 "cells": [
  {
   "cell_type": "markdown",
   "metadata": {},
   "source": [
    "A Class is a \"blueprint\" for creating objects."
   ]
  },
  {
   "cell_type": "code",
   "execution_count": 4,
   "metadata": {},
   "outputs": [
    {
     "name": "stdout",
     "output_type": "stream",
     "text": [
      "101 Rohan\n"
     ]
    }
   ],
   "source": [
    "class Employee:  \n",
    "    id = 101;  \n",
    "    name = \"Rohan\"  \n",
    "    def display (self):  \n",
    "        print(self.id,self.name)  \n",
    "#e=Employee()\n",
    "#display()"
   ]
  },
  {
   "cell_type": "markdown",
   "metadata": {},
   "source": [
    "Consider the following example to create a class Employee which contains two fields as Employee id, and name.\n",
    "\n",
    "The class also contains a function display() which is used to display the information of the Employee.\n",
    "\n",
    "Here, the self is used as a reference variable which refers to the current class object. It is always the first argument in the function definition. However, using self is optional in the function call.\n",
    "\n",
    "The self parameter is a reference to the current instance of the class, and is used to access variables that belongs to the class.\n",
    "\n",
    "It does not have to be named self , you can call it whatever you like, but it has to be the first parameter of any function in the class:"
   ]
  },
  {
   "cell_type": "code",
   "execution_count": 5,
   "metadata": {},
   "outputs": [
    {
     "name": "stdout",
     "output_type": "stream",
     "text": [
      "ID: 10 \n",
      "Name: John\n",
      "<class '__main__.Employee'>\n"
     ]
    }
   ],
   "source": [
    "class Employee:  \n",
    "    id = 10;  \n",
    "    name = \"John\"  \n",
    "    def display (self):  \n",
    "        print(\"ID: %d \\nName: %s\"%(self.id,self.name))  \n",
    "emp = Employee()  \n",
    "emp.display()\n",
    "print(type(emp))"
   ]
  },
  {
   "cell_type": "markdown",
   "metadata": {},
   "source": [
    "The following example creates the instance of the class Employee defined in the above example."
   ]
  },
  {
   "cell_type": "markdown",
   "metadata": {},
   "source": [
    "self :\n",
    "self represents the instance of the class. By using the \"self\" keyword we can access the attributes and methods of the class in python.\n",
    "# Python Constructor\n",
    "\n",
    "__init__ :\n",
    "\"__init__\" is a reseved method in python classes. It is known as a constructor in object oriented concepts. This method called when an object is created from the class and it allow the class to initialize the attributes of a class."
   ]
  },
  {
   "cell_type": "code",
   "execution_count": 15,
   "metadata": {},
   "outputs": [
    {
     "name": "stdout",
     "output_type": "stream",
     "text": [
      "ID: 101 \n",
      "Name: rohan\n",
      "ID: 102 \n",
      "Name: jadhav\n"
     ]
    },
    {
     "ename": "NameError",
     "evalue": "name 'emp1' is not defined",
     "output_type": "error",
     "traceback": [
      "\u001b[0;31m---------------------------------------------------------------------------\u001b[0m",
      "\u001b[0;31mNameError\u001b[0m                                 Traceback (most recent call last)",
      "\u001b[0;32m<ipython-input-15-09eb3c7fee9d>\u001b[0m in \u001b[0;36m<module>\u001b[0;34m\u001b[0m\n\u001b[1;32m     23\u001b[0m \u001b[0;32mdel\u001b[0m \u001b[0memp1\u001b[0m\u001b[0;34m\u001b[0m\u001b[0;34m\u001b[0m\u001b[0m\n\u001b[1;32m     24\u001b[0m \u001b[0;34m\u001b[0m\u001b[0m\n\u001b[0;32m---> 25\u001b[0;31m \u001b[0memp1\u001b[0m\u001b[0;34m.\u001b[0m\u001b[0mdisplay\u001b[0m\u001b[0;34m(\u001b[0m\u001b[0;34m)\u001b[0m\u001b[0;34m\u001b[0m\u001b[0;34m\u001b[0m\u001b[0m\n\u001b[0m",
      "\u001b[0;31mNameError\u001b[0m: name 'emp1' is not defined"
     ]
    }
   ],
   "source": [
    "class Employee:  \n",
    "    def __init__(self,name,id):  \n",
    "        self.id = id;  \n",
    "        self.name = name; \n",
    "\n",
    "    def display (self):  \n",
    "        print(\"ID: %d \\nName: %s\"%(self.id,self.name))  \n",
    "\n",
    "emp1 = Employee(\"rohan\",101)  \n",
    "\n",
    "emp2 = Employee(\"jadhav\",102)  \n",
    "  \n",
    "#accessing display() method to print employee 1 information  \n",
    "   \n",
    "emp1.display();   \n",
    "  \n",
    "#accessing display() method to print employee 2 information  \n",
    "emp2.display(); \n",
    "\n",
    "#if emp1.id==101:\n",
    "#print('Emp 10 found')\n",
    "#print( emp1.__dict__)\n",
    "del emp1\n",
    "\n",
    "emp1.display()"
   ]
  },
  {
   "cell_type": "code",
   "execution_count": 5,
   "metadata": {},
   "outputs": [
    {
     "name": "stdout",
     "output_type": "stream",
     "text": [
      "{'name': 'Python', 'id': 101, 'age': 22}\n",
      "__main__\n"
     ]
    }
   ],
   "source": [
    "class Student:  \n",
    "    def __init__(self,name,id,age):  \n",
    "        self.name = name;  \n",
    "        self.id = id;  \n",
    "        self.age = age  \n",
    "    def display_details(self):  \n",
    "        print(\"Name:%s, ID:%d, age:%d\"%(self.name,self.id))  \n",
    "s = Student(\"Python\",101,22)  \n",
    "#print(s.__doc__)  \n",
    "print(s.__dict__)  \n",
    "print(s.__module__) \n"
   ]
  },
  {
   "cell_type": "markdown",
   "metadata": {},
   "source": [
    "dict-It provides the dictionary containing the information about the class namespace.\n",
    "__module__\tIt is used to access the module in which, this class is defined."
   ]
  },
  {
   "cell_type": "markdown",
   "metadata": {},
   "source": [
    "# Python Inheritance\n",
    "\n",
    "In inheritance, the child class acquires the properties and can access all the data members and functions defined in the parent class.\n",
    "n Python, there are two types of Inheritance:\n",
    "\n",
    "Multiple Inheritance\n",
    "\n",
    "Multilevel Inheritance"
   ]
  },
  {
   "cell_type": "markdown",
   "metadata": {},
   "source": [
    "Syntax\n",
    "class derived-class(base class):  \n",
    "    <class-suite>"
   ]
  },
  {
   "cell_type": "code",
   "execution_count": 19,
   "metadata": {},
   "outputs": [
    {
     "name": "stdout",
     "output_type": "stream",
     "text": [
      "dog barking\n",
      "Animal Speaking\n",
      "Bird Flying\n"
     ]
    }
   ],
   "source": [
    "class Animal:  \n",
    "    def speak(self):  \n",
    "        print(\"Animal Speaking\")  \n",
    "#child class Dog inherits the base class Animal  \n",
    "class Bird:\n",
    "    def fly(self):\n",
    "        print('Bird Flying')\n",
    "class Dog(Animal,Bird):  #multiple and multilevel\n",
    "    def bark(self):  \n",
    "        print(\"dog barking\")  \n",
    "d = Dog()  \n",
    "d.bark()  \n",
    "d.speak() \n",
    "#d.fly()"
   ]
  },
  {
   "cell_type": "markdown",
   "metadata": {},
   "source": [
    "Using issubclass() method\n",
    "In python, there is a function which helps us to verify whether a particular class is a sub class of another class, that built-in function is issubclass(paramOne, paramTwo), where paramOne and paramTwo can be either class names or class's object name."
   ]
  },
  {
   "cell_type": "code",
   "execution_count": 18,
   "metadata": {},
   "outputs": [
    {
     "data": {
      "text/plain": [
       "True"
      ]
     },
     "execution_count": 18,
     "metadata": {},
     "output_type": "execute_result"
    }
   ],
   "source": [
    "issubclass(Dog, Animal)"
   ]
  },
  {
   "cell_type": "markdown",
   "metadata": {},
   "source": [
    "# Method Overriding\n",
    "\n",
    "We can provide some specific implementation of the parent class method in our child class. When the parent class method is defined in the child class with some specific implementation, then the concept is called method overriding. We may need to perform method overriding in the scenario where the different definition of a parent class method is needed in the child class."
   ]
  },
  {
   "cell_type": "code",
   "execution_count": 20,
   "metadata": {},
   "outputs": [
    {
     "name": "stdout",
     "output_type": "stream",
     "text": [
      "Bank Rate of interest: 10\n",
      "SBI Rate of interest: 7\n",
      "ICICI Rate of interest: 8\n"
     ]
    }
   ],
   "source": [
    "class Bank:  \n",
    "    def getroi(self):  \n",
    "        return 10;  \n",
    "class SBI(Bank):  \n",
    "    def getroi(self):  \n",
    "        return 7;  \n",
    "  \n",
    "class ICICI(Bank):  \n",
    "    def getroi(self):  \n",
    "        return 8;  \n",
    "b1 = Bank()  \n",
    "b2 = SBI()  \n",
    "b3 = ICICI()  \n",
    "print(\"Bank Rate of interest:\",b1.getroi());  \n",
    "print(\"SBI Rate of interest:\",b2.getroi());  \n",
    "print(\"ICICI Rate of interest:\",b3.getroi());  "
   ]
  },
  {
   "cell_type": "code",
   "execution_count": null,
   "metadata": {},
   "outputs": [],
   "source": [
    "wwwwww"
   ]
  },
  {
   "cell_type": "markdown",
   "metadata": {},
   "source": [
    "# Operator Overloading- \n",
    "Operator Overloading means giving extended meaning beyond their predefined operational meaning. For example operator + is used to add two integers as well as join two strings and merge two lists. It is achievable because ‘+’ operator is overloaded by int class and str class."
   ]
  },
  {
   "cell_type": "code",
   "execution_count": 7,
   "metadata": {},
   "outputs": [
    {
     "name": "stdout",
     "output_type": "stream",
     "text": [
      "3\n",
      "HelloWorld\n"
     ]
    }
   ],
   "source": [
    "# Python Program illustrate how  \n",
    "# to overload an binary + operator \n",
    "  \n",
    "class A: \n",
    "    def __init__(self, a): \n",
    "        self.a = a \n",
    "  \n",
    "    # adding two objects  \n",
    "    def __add__(self, o): \n",
    "        return self.a + o.a  \n",
    "ob1 = A(1) \n",
    "ob2 = A(2) \n",
    "ob3 = A(\"Hello\") \n",
    "ob4 = A(\"World\") \n",
    "\n",
    "print(ob1 + ob2) \n",
    "print(ob3 + ob4)"
   ]
  }
 ],
 "metadata": {
  "kernelspec": {
   "display_name": "Python 3",
   "language": "python",
   "name": "python3"
  },
  "language_info": {
   "codemirror_mode": {
    "name": "ipython",
    "version": 3
   },
   "file_extension": ".py",
   "mimetype": "text/x-python",
   "name": "python",
   "nbconvert_exporter": "python",
   "pygments_lexer": "ipython3",
   "version": "3.7.3"
  }
 },
 "nbformat": 4,
 "nbformat_minor": 2
}
